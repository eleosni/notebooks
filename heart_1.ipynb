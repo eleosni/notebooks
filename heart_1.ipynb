{
  "nbformat": 4,
  "nbformat_minor": 0,
  "metadata": {
    "kernelspec": {
      "display_name": "Python 3",
      "language": "python",
      "name": "python3"
    },
    "language_info": {
      "codemirror_mode": {
        "name": "ipython",
        "version": 3
      },
      "file_extension": ".py",
      "mimetype": "text/x-python",
      "name": "python",
      "nbconvert_exporter": "python",
      "pygments_lexer": "ipython3",
      "version": "3.7.6"
    },
    "colab": {
      "name": "heart_1.ipynb",
      "provenance": []
    }
  },
  "cells": [
    {
      "cell_type": "code",
      "metadata": {
        "id": "K3l8M3m1EiI_"
      },
      "source": [
        "import pandas as pd \n",
        "import numpy as np\n",
        "import seaborn as sns\n",
        "import matplotlib.pyplot as plt \n",
        "import datetime\n",
        "from sklearn.model_selection import train_test_split\n",
        "import warnings\n",
        "warnings.filterwarnings('ignore')\n"
      ],
      "execution_count": null,
      "outputs": []
    },
    {
      "cell_type": "code",
      "metadata": {
        "scrolled": true,
        "id": "VldQXEuWEiJE",
        "outputId": "1507b2be-8490-4299-898e-543cbf268c7e"
      },
      "source": [
        "data = pd.read_csv(\"C:/Users/okone/Desktop/Elya/heart.csv\", sep=\",\")\n",
        "data"
      ],
      "execution_count": null,
      "outputs": [
        {
          "data": {
            "text/html": [
              "<div>\n",
              "<style scoped>\n",
              "    .dataframe tbody tr th:only-of-type {\n",
              "        vertical-align: middle;\n",
              "    }\n",
              "\n",
              "    .dataframe tbody tr th {\n",
              "        vertical-align: top;\n",
              "    }\n",
              "\n",
              "    .dataframe thead th {\n",
              "        text-align: right;\n",
              "    }\n",
              "</style>\n",
              "<table border=\"1\" class=\"dataframe\">\n",
              "  <thead>\n",
              "    <tr style=\"text-align: right;\">\n",
              "      <th></th>\n",
              "      <th>age</th>\n",
              "      <th>sex</th>\n",
              "      <th>cp</th>\n",
              "      <th>trestbps</th>\n",
              "      <th>chol</th>\n",
              "      <th>fbs</th>\n",
              "      <th>restecg</th>\n",
              "      <th>thalach</th>\n",
              "      <th>exang</th>\n",
              "      <th>oldpeak</th>\n",
              "      <th>slope</th>\n",
              "      <th>ca</th>\n",
              "      <th>thal</th>\n",
              "      <th>target</th>\n",
              "    </tr>\n",
              "  </thead>\n",
              "  <tbody>\n",
              "    <tr>\n",
              "      <th>0</th>\n",
              "      <td>63</td>\n",
              "      <td>1</td>\n",
              "      <td>3</td>\n",
              "      <td>145</td>\n",
              "      <td>233</td>\n",
              "      <td>1</td>\n",
              "      <td>0</td>\n",
              "      <td>150</td>\n",
              "      <td>0</td>\n",
              "      <td>2.3</td>\n",
              "      <td>0</td>\n",
              "      <td>0</td>\n",
              "      <td>1</td>\n",
              "      <td>1</td>\n",
              "    </tr>\n",
              "    <tr>\n",
              "      <th>1</th>\n",
              "      <td>37</td>\n",
              "      <td>1</td>\n",
              "      <td>2</td>\n",
              "      <td>130</td>\n",
              "      <td>250</td>\n",
              "      <td>0</td>\n",
              "      <td>1</td>\n",
              "      <td>187</td>\n",
              "      <td>0</td>\n",
              "      <td>3.5</td>\n",
              "      <td>0</td>\n",
              "      <td>0</td>\n",
              "      <td>2</td>\n",
              "      <td>1</td>\n",
              "    </tr>\n",
              "    <tr>\n",
              "      <th>2</th>\n",
              "      <td>41</td>\n",
              "      <td>0</td>\n",
              "      <td>1</td>\n",
              "      <td>130</td>\n",
              "      <td>204</td>\n",
              "      <td>0</td>\n",
              "      <td>0</td>\n",
              "      <td>172</td>\n",
              "      <td>0</td>\n",
              "      <td>1.4</td>\n",
              "      <td>2</td>\n",
              "      <td>0</td>\n",
              "      <td>2</td>\n",
              "      <td>1</td>\n",
              "    </tr>\n",
              "    <tr>\n",
              "      <th>3</th>\n",
              "      <td>56</td>\n",
              "      <td>1</td>\n",
              "      <td>1</td>\n",
              "      <td>120</td>\n",
              "      <td>236</td>\n",
              "      <td>0</td>\n",
              "      <td>1</td>\n",
              "      <td>178</td>\n",
              "      <td>0</td>\n",
              "      <td>0.8</td>\n",
              "      <td>2</td>\n",
              "      <td>0</td>\n",
              "      <td>2</td>\n",
              "      <td>1</td>\n",
              "    </tr>\n",
              "    <tr>\n",
              "      <th>4</th>\n",
              "      <td>57</td>\n",
              "      <td>0</td>\n",
              "      <td>0</td>\n",
              "      <td>120</td>\n",
              "      <td>354</td>\n",
              "      <td>0</td>\n",
              "      <td>1</td>\n",
              "      <td>163</td>\n",
              "      <td>1</td>\n",
              "      <td>0.6</td>\n",
              "      <td>2</td>\n",
              "      <td>0</td>\n",
              "      <td>2</td>\n",
              "      <td>1</td>\n",
              "    </tr>\n",
              "    <tr>\n",
              "      <th>...</th>\n",
              "      <td>...</td>\n",
              "      <td>...</td>\n",
              "      <td>...</td>\n",
              "      <td>...</td>\n",
              "      <td>...</td>\n",
              "      <td>...</td>\n",
              "      <td>...</td>\n",
              "      <td>...</td>\n",
              "      <td>...</td>\n",
              "      <td>...</td>\n",
              "      <td>...</td>\n",
              "      <td>...</td>\n",
              "      <td>...</td>\n",
              "      <td>...</td>\n",
              "    </tr>\n",
              "    <tr>\n",
              "      <th>298</th>\n",
              "      <td>57</td>\n",
              "      <td>0</td>\n",
              "      <td>0</td>\n",
              "      <td>140</td>\n",
              "      <td>241</td>\n",
              "      <td>0</td>\n",
              "      <td>1</td>\n",
              "      <td>123</td>\n",
              "      <td>1</td>\n",
              "      <td>0.2</td>\n",
              "      <td>1</td>\n",
              "      <td>0</td>\n",
              "      <td>3</td>\n",
              "      <td>0</td>\n",
              "    </tr>\n",
              "    <tr>\n",
              "      <th>299</th>\n",
              "      <td>45</td>\n",
              "      <td>1</td>\n",
              "      <td>3</td>\n",
              "      <td>110</td>\n",
              "      <td>264</td>\n",
              "      <td>0</td>\n",
              "      <td>1</td>\n",
              "      <td>132</td>\n",
              "      <td>0</td>\n",
              "      <td>1.2</td>\n",
              "      <td>1</td>\n",
              "      <td>0</td>\n",
              "      <td>3</td>\n",
              "      <td>0</td>\n",
              "    </tr>\n",
              "    <tr>\n",
              "      <th>300</th>\n",
              "      <td>68</td>\n",
              "      <td>1</td>\n",
              "      <td>0</td>\n",
              "      <td>144</td>\n",
              "      <td>193</td>\n",
              "      <td>1</td>\n",
              "      <td>1</td>\n",
              "      <td>141</td>\n",
              "      <td>0</td>\n",
              "      <td>3.4</td>\n",
              "      <td>1</td>\n",
              "      <td>2</td>\n",
              "      <td>3</td>\n",
              "      <td>0</td>\n",
              "    </tr>\n",
              "    <tr>\n",
              "      <th>301</th>\n",
              "      <td>57</td>\n",
              "      <td>1</td>\n",
              "      <td>0</td>\n",
              "      <td>130</td>\n",
              "      <td>131</td>\n",
              "      <td>0</td>\n",
              "      <td>1</td>\n",
              "      <td>115</td>\n",
              "      <td>1</td>\n",
              "      <td>1.2</td>\n",
              "      <td>1</td>\n",
              "      <td>1</td>\n",
              "      <td>3</td>\n",
              "      <td>0</td>\n",
              "    </tr>\n",
              "    <tr>\n",
              "      <th>302</th>\n",
              "      <td>57</td>\n",
              "      <td>0</td>\n",
              "      <td>1</td>\n",
              "      <td>130</td>\n",
              "      <td>236</td>\n",
              "      <td>0</td>\n",
              "      <td>0</td>\n",
              "      <td>174</td>\n",
              "      <td>0</td>\n",
              "      <td>0.0</td>\n",
              "      <td>1</td>\n",
              "      <td>1</td>\n",
              "      <td>2</td>\n",
              "      <td>0</td>\n",
              "    </tr>\n",
              "  </tbody>\n",
              "</table>\n",
              "<p>303 rows × 14 columns</p>\n",
              "</div>"
            ],
            "text/plain": [
              "     age  sex  cp  trestbps  chol  fbs  restecg  thalach  exang  oldpeak  \\\n",
              "0     63    1   3       145   233    1        0      150      0      2.3   \n",
              "1     37    1   2       130   250    0        1      187      0      3.5   \n",
              "2     41    0   1       130   204    0        0      172      0      1.4   \n",
              "3     56    1   1       120   236    0        1      178      0      0.8   \n",
              "4     57    0   0       120   354    0        1      163      1      0.6   \n",
              "..   ...  ...  ..       ...   ...  ...      ...      ...    ...      ...   \n",
              "298   57    0   0       140   241    0        1      123      1      0.2   \n",
              "299   45    1   3       110   264    0        1      132      0      1.2   \n",
              "300   68    1   0       144   193    1        1      141      0      3.4   \n",
              "301   57    1   0       130   131    0        1      115      1      1.2   \n",
              "302   57    0   1       130   236    0        0      174      0      0.0   \n",
              "\n",
              "     slope  ca  thal  target  \n",
              "0        0   0     1       1  \n",
              "1        0   0     2       1  \n",
              "2        2   0     2       1  \n",
              "3        2   0     2       1  \n",
              "4        2   0     2       1  \n",
              "..     ...  ..   ...     ...  \n",
              "298      1   0     3       0  \n",
              "299      1   0     3       0  \n",
              "300      1   2     3       0  \n",
              "301      1   1     3       0  \n",
              "302      1   1     2       0  \n",
              "\n",
              "[303 rows x 14 columns]"
            ]
          },
          "execution_count": 64,
          "metadata": {},
          "output_type": "execute_result"
        }
      ]
    },
    {
      "cell_type": "code",
      "metadata": {
        "id": "qATKYeO_EiJG",
        "outputId": "c01dc24a-0a51-4125-c67a-f7eae07446e2"
      },
      "source": [
        "data.shape"
      ],
      "execution_count": null,
      "outputs": [
        {
          "data": {
            "text/plain": [
              "(303, 14)"
            ]
          },
          "execution_count": 65,
          "metadata": {},
          "output_type": "execute_result"
        }
      ]
    },
    {
      "cell_type": "code",
      "metadata": {
        "id": "SGuYfv74EiJH",
        "outputId": "ad559de9-2142-42ba-c7e1-e1ce7a4d79a8"
      },
      "source": [
        "data.dtypes"
      ],
      "execution_count": null,
      "outputs": [
        {
          "data": {
            "text/plain": [
              "age           int64\n",
              "sex           int64\n",
              "cp            int64\n",
              "trestbps      int64\n",
              "chol          int64\n",
              "fbs           int64\n",
              "restecg       int64\n",
              "thalach       int64\n",
              "exang         int64\n",
              "oldpeak     float64\n",
              "slope         int64\n",
              "ca            int64\n",
              "thal          int64\n",
              "target        int64\n",
              "dtype: object"
            ]
          },
          "execution_count": 66,
          "metadata": {},
          "output_type": "execute_result"
        }
      ]
    },
    {
      "cell_type": "code",
      "metadata": {
        "id": "lOZGKAkgEiJH",
        "outputId": "f55cb436-1ff8-48cc-f925-3100713eefae"
      },
      "source": [
        "import matplotlib.pyplot as plt\n",
        "data.hist(edgecolor='black', linewidth=1.2)\n",
        "fig = plt.gcf()\n",
        "fig.set_size_inches(25,18)\n",
        "plt.show"
      ],
      "execution_count": null,
      "outputs": [
        {
          "data": {
            "text/plain": [
              "<function matplotlib.pyplot.show(*args, **kw)>"
            ]
          },
          "execution_count": 67,
          "metadata": {},
          "output_type": "execute_result"
        },
        {
          "data": {
            "image/png": "[encoded data removed]",
            "text/plain": [
              "<Figure size 1800x1296 with 16 Axes>"
            ]
          },
          "metadata": {},
          "output_type": "display_data"
        }
      ]
    },
    {
      "cell_type": "code",
      "metadata": {
        "scrolled": true,
        "id": "tDr1RbcBEiJI",
        "outputId": "fc3118ff-1357-4b17-98ae-a0c9c9bcb2fc"
      },
      "source": [
        "import seaborn as sns\n",
        "sns.set()\n",
        "plt.figure(figsize = (16,10))\n",
        "sns.heatmap(data.loc[:, ['age', 'sex', 'cp', 'trestbps', 'chol', 'fbs', 'restecg', 'thalach',\n",
        "       'exang', 'oldpeak', 'slope', 'ca', 'thal', 'target']].corr(),\n",
        "    annot=True)"
      ],
      "execution_count": null,
      "outputs": [
        {
          "data": {
            "text/plain": [
              "<matplotlib.axes._subplots.AxesSubplot at 0xe17a2f0>"
            ]
          },
          "execution_count": 68,
          "metadata": {},
          "output_type": "execute_result"
        },
        {
          "data": {
            "image/png": "[encoded data removed]",
            "text/plain": [
              "<Figure size 1152x720 with 2 Axes>"
            ]
          },
          "metadata": {},
          "output_type": "display_data"
        }
      ]
    },
    {
      "cell_type": "code",
      "metadata": {
        "scrolled": true,
        "id": "RG24a7z5EiJJ",
        "outputId": "23f1eac1-8e71-4bc5-c644-473a43fe5d01"
      },
      "source": [
        "data.describe()"
      ],
      "execution_count": null,
      "outputs": [
        {
          "data": {
            "text/html": [
              "<div>\n",
              "<style scoped>\n",
              "    .dataframe tbody tr th:only-of-type {\n",
              "        vertical-align: middle;\n",
              "    }\n",
              "\n",
              "    .dataframe tbody tr th {\n",
              "        vertical-align: top;\n",
              "    }\n",
              "\n",
              "    .dataframe thead th {\n",
              "        text-align: right;\n",
              "    }\n",
              "</style>\n",
              "<table border=\"1\" class=\"dataframe\">\n",
              "  <thead>\n",
              "    <tr style=\"text-align: right;\">\n",
              "      <th></th>\n",
              "      <th>age</th>\n",
              "      <th>sex</th>\n",
              "      <th>cp</th>\n",
              "      <th>trestbps</th>\n",
              "      <th>chol</th>\n",
              "      <th>fbs</th>\n",
              "      <th>restecg</th>\n",
              "      <th>thalach</th>\n",
              "      <th>exang</th>\n",
              "      <th>oldpeak</th>\n",
              "      <th>slope</th>\n",
              "      <th>ca</th>\n",
              "      <th>thal</th>\n",
              "      <th>target</th>\n",
              "    </tr>\n",
              "  </thead>\n",
              "  <tbody>\n",
              "    <tr>\n",
              "      <th>count</th>\n",
              "      <td>303.000000</td>\n",
              "      <td>303.000000</td>\n",
              "      <td>303.000000</td>\n",
              "      <td>303.000000</td>\n",
              "      <td>303.000000</td>\n",
              "      <td>303.000000</td>\n",
              "      <td>303.000000</td>\n",
              "      <td>303.000000</td>\n",
              "      <td>303.000000</td>\n",
              "      <td>303.000000</td>\n",
              "      <td>303.000000</td>\n",
              "      <td>303.000000</td>\n",
              "      <td>303.000000</td>\n",
              "      <td>303.000000</td>\n",
              "    </tr>\n",
              "    <tr>\n",
              "      <th>mean</th>\n",
              "      <td>54.366337</td>\n",
              "      <td>0.683168</td>\n",
              "      <td>0.966997</td>\n",
              "      <td>131.623762</td>\n",
              "      <td>246.264026</td>\n",
              "      <td>0.148515</td>\n",
              "      <td>0.528053</td>\n",
              "      <td>149.646865</td>\n",
              "      <td>0.326733</td>\n",
              "      <td>1.039604</td>\n",
              "      <td>1.399340</td>\n",
              "      <td>0.729373</td>\n",
              "      <td>2.313531</td>\n",
              "      <td>0.544554</td>\n",
              "    </tr>\n",
              "    <tr>\n",
              "      <th>std</th>\n",
              "      <td>9.082101</td>\n",
              "      <td>0.466011</td>\n",
              "      <td>1.032052</td>\n",
              "      <td>17.538143</td>\n",
              "      <td>51.830751</td>\n",
              "      <td>0.356198</td>\n",
              "      <td>0.525860</td>\n",
              "      <td>22.905161</td>\n",
              "      <td>0.469794</td>\n",
              "      <td>1.161075</td>\n",
              "      <td>0.616226</td>\n",
              "      <td>1.022606</td>\n",
              "      <td>0.612277</td>\n",
              "      <td>0.498835</td>\n",
              "    </tr>\n",
              "    <tr>\n",
              "      <th>min</th>\n",
              "      <td>29.000000</td>\n",
              "      <td>0.000000</td>\n",
              "      <td>0.000000</td>\n",
              "      <td>94.000000</td>\n",
              "      <td>126.000000</td>\n",
              "      <td>0.000000</td>\n",
              "      <td>0.000000</td>\n",
              "      <td>71.000000</td>\n",
              "      <td>0.000000</td>\n",
              "      <td>0.000000</td>\n",
              "      <td>0.000000</td>\n",
              "      <td>0.000000</td>\n",
              "      <td>0.000000</td>\n",
              "      <td>0.000000</td>\n",
              "    </tr>\n",
              "    <tr>\n",
              "      <th>25%</th>\n",
              "      <td>47.500000</td>\n",
              "      <td>0.000000</td>\n",
              "      <td>0.000000</td>\n",
              "      <td>120.000000</td>\n",
              "      <td>211.000000</td>\n",
              "      <td>0.000000</td>\n",
              "      <td>0.000000</td>\n",
              "      <td>133.500000</td>\n",
              "      <td>0.000000</td>\n",
              "      <td>0.000000</td>\n",
              "      <td>1.000000</td>\n",
              "      <td>0.000000</td>\n",
              "      <td>2.000000</td>\n",
              "      <td>0.000000</td>\n",
              "    </tr>\n",
              "    <tr>\n",
              "      <th>50%</th>\n",
              "      <td>55.000000</td>\n",
              "      <td>1.000000</td>\n",
              "      <td>1.000000</td>\n",
              "      <td>130.000000</td>\n",
              "      <td>240.000000</td>\n",
              "      <td>0.000000</td>\n",
              "      <td>1.000000</td>\n",
              "      <td>153.000000</td>\n",
              "      <td>0.000000</td>\n",
              "      <td>0.800000</td>\n",
              "      <td>1.000000</td>\n",
              "      <td>0.000000</td>\n",
              "      <td>2.000000</td>\n",
              "      <td>1.000000</td>\n",
              "    </tr>\n",
              "    <tr>\n",
              "      <th>75%</th>\n",
              "      <td>61.000000</td>\n",
              "      <td>1.000000</td>\n",
              "      <td>2.000000</td>\n",
              "      <td>140.000000</td>\n",
              "      <td>274.500000</td>\n",
              "      <td>0.000000</td>\n",
              "      <td>1.000000</td>\n",
              "      <td>166.000000</td>\n",
              "      <td>1.000000</td>\n",
              "      <td>1.600000</td>\n",
              "      <td>2.000000</td>\n",
              "      <td>1.000000</td>\n",
              "      <td>3.000000</td>\n",
              "      <td>1.000000</td>\n",
              "    </tr>\n",
              "    <tr>\n",
              "      <th>max</th>\n",
              "      <td>77.000000</td>\n",
              "      <td>1.000000</td>\n",
              "      <td>3.000000</td>\n",
              "      <td>200.000000</td>\n",
              "      <td>564.000000</td>\n",
              "      <td>1.000000</td>\n",
              "      <td>2.000000</td>\n",
              "      <td>202.000000</td>\n",
              "      <td>1.000000</td>\n",
              "      <td>6.200000</td>\n",
              "      <td>2.000000</td>\n",
              "      <td>4.000000</td>\n",
              "      <td>3.000000</td>\n",
              "      <td>1.000000</td>\n",
              "    </tr>\n",
              "  </tbody>\n",
              "</table>\n",
              "</div>"
            ],
            "text/plain": [
              "              age         sex          cp    trestbps        chol         fbs  \\\n",
              "count  303.000000  303.000000  303.000000  303.000000  303.000000  303.000000   \n",
              "mean    54.366337    0.683168    0.966997  131.623762  246.264026    0.148515   \n",
              "std      9.082101    0.466011    1.032052   17.538143   51.830751    0.356198   \n",
              "min     29.000000    0.000000    0.000000   94.000000  126.000000    0.000000   \n",
              "25%     47.500000    0.000000    0.000000  120.000000  211.000000    0.000000   \n",
              "50%     55.000000    1.000000    1.000000  130.000000  240.000000    0.000000   \n",
              "75%     61.000000    1.000000    2.000000  140.000000  274.500000    0.000000   \n",
              "max     77.000000    1.000000    3.000000  200.000000  564.000000    1.000000   \n",
              "\n",
              "          restecg     thalach       exang     oldpeak       slope          ca  \\\n",
              "count  303.000000  303.000000  303.000000  303.000000  303.000000  303.000000   \n",
              "mean     0.528053  149.646865    0.326733    1.039604    1.399340    0.729373   \n",
              "std      0.525860   22.905161    0.469794    1.161075    0.616226    1.022606   \n",
              "min      0.000000   71.000000    0.000000    0.000000    0.000000    0.000000   \n",
              "25%      0.000000  133.500000    0.000000    0.000000    1.000000    0.000000   \n",
              "50%      1.000000  153.000000    0.000000    0.800000    1.000000    0.000000   \n",
              "75%      1.000000  166.000000    1.000000    1.600000    2.000000    1.000000   \n",
              "max      2.000000  202.000000    1.000000    6.200000    2.000000    4.000000   \n",
              "\n",
              "             thal      target  \n",
              "count  303.000000  303.000000  \n",
              "mean     2.313531    0.544554  \n",
              "std      0.612277    0.498835  \n",
              "min      0.000000    0.000000  \n",
              "25%      2.000000    0.000000  \n",
              "50%      2.000000    1.000000  \n",
              "75%      3.000000    1.000000  \n",
              "max      3.000000    1.000000  "
            ]
          },
          "execution_count": 69,
          "metadata": {},
          "output_type": "execute_result"
        }
      ]
    },
    {
      "cell_type": "code",
      "metadata": {
        "id": "HCu_zrwwEiJK",
        "outputId": "af1914d4-26cc-4ff0-d8a7-2919172c2ea2"
      },
      "source": [
        "data['target'].value_counts()"
      ],
      "execution_count": null,
      "outputs": [
        {
          "data": {
            "text/plain": [
              "1    165\n",
              "0    138\n",
              "Name: target, dtype: int64"
            ]
          },
          "execution_count": 70,
          "metadata": {},
          "output_type": "execute_result"
        }
      ]
    },
    {
      "cell_type": "code",
      "metadata": {
        "id": "CGBLcgVzEiJL",
        "outputId": "89c96e1f-f6db-45a1-e77d-b3a296b420d5"
      },
      "source": [
        "data.isna().sum()"
      ],
      "execution_count": null,
      "outputs": [
        {
          "data": {
            "text/plain": [
              "age         0\n",
              "sex         0\n",
              "cp          0\n",
              "trestbps    0\n",
              "chol        0\n",
              "fbs         0\n",
              "restecg     0\n",
              "thalach     0\n",
              "exang       0\n",
              "oldpeak     0\n",
              "slope       0\n",
              "ca          0\n",
              "thal        0\n",
              "target      0\n",
              "dtype: int64"
            ]
          },
          "execution_count": 71,
          "metadata": {},
          "output_type": "execute_result"
        }
      ]
    },
    {
      "cell_type": "code",
      "metadata": {
        "id": "egbsj1Q3EiJM"
      },
      "source": [
        "#разделение данных на независимые переменные и целевую\n",
        "X = data.drop(['target'], axis = 1)\n",
        "y = data['target']"
      ],
      "execution_count": null,
      "outputs": []
    },
    {
      "cell_type": "code",
      "metadata": {
        "id": "iQ83t-DsEiJN"
      },
      "source": [
        "# Разобъем выборку на обучающую и проверочные(валидационная и тестовая) выборки\n",
        "x_train, x_val_test, y_train, y_val_test = train_test_split(X, y, test_size=0.3)"
      ],
      "execution_count": null,
      "outputs": []
    },
    {
      "cell_type": "code",
      "metadata": {
        "id": "xomTCw-FEiJO"
      },
      "source": [
        "#сброс индексов \n",
        "x_train = x_train.reset_index(drop = True)\n",
        "y_train = y_train.reset_index(drop = True)\n",
        "x_val_test = x_val_test.reset_index(drop = True)\n",
        "y_val_test = y_val_test.reset_index(drop = True)"
      ],
      "execution_count": null,
      "outputs": []
    },
    {
      "cell_type": "code",
      "metadata": {
        "id": "fE-bd7WfEiJP"
      },
      "source": [
        "#разделение проверочных данных на валидационные и тестовые\n",
        "x_val, x_test, y_val, y_test = train_test_split(x_val_test, y_val_test, test_size = 0.5, random_state = 42)\n"
      ],
      "execution_count": null,
      "outputs": []
    },
    {
      "cell_type": "code",
      "metadata": {
        "id": "gDqXvDyaEiJP"
      },
      "source": [
        "x_val = x_val.reset_index(drop = True)\n",
        "x_test = x_test.reset_index(drop = True)\n",
        "y_val = y_val.reset_index(drop = True)\n",
        "y_test = y_test.reset_index(drop = True)"
      ],
      "execution_count": null,
      "outputs": []
    },
    {
      "cell_type": "code",
      "metadata": {
        "id": "nrd3iYzJEiJQ"
      },
      "source": [
        "from sklearn.preprocessing import StandardScaler\n",
        "sc = StandardScaler()\n",
        "x_train_sc = sc.fit_transform(x_train)\n",
        "x_test_sc = sc.transform(x_test)\n",
        "x_val_sc = sc.transform(x_val)"
      ],
      "execution_count": null,
      "outputs": []
    },
    {
      "cell_type": "code",
      "metadata": {
        "id": "Dk4BRXoVEiJQ"
      },
      "source": [
        "x_train_sc = pd.DataFrame(x_train_sc, columns = x_train.columns)\n",
        "x_test_sc= pd.DataFrame(x_test_sc, columns = x_test.columns)\n",
        "x_val_sc = pd.DataFrame(x_val_sc, columns = x_val.columns)"
      ],
      "execution_count": null,
      "outputs": []
    },
    {
      "cell_type": "code",
      "metadata": {
        "scrolled": false,
        "id": "C9RGMeQxEiJQ",
        "outputId": "243a1d4a-14a4-4d46-bb75-4d09ef2278ca"
      },
      "source": [
        "x_train_sc.head()"
      ],
      "execution_count": null,
      "outputs": [
        {
          "data": {
            "text/html": [
              "<div>\n",
              "<style scoped>\n",
              "    .dataframe tbody tr th:only-of-type {\n",
              "        vertical-align: middle;\n",
              "    }\n",
              "\n",
              "    .dataframe tbody tr th {\n",
              "        vertical-align: top;\n",
              "    }\n",
              "\n",
              "    .dataframe thead th {\n",
              "        text-align: right;\n",
              "    }\n",
              "</style>\n",
              "<table border=\"1\" class=\"dataframe\">\n",
              "  <thead>\n",
              "    <tr style=\"text-align: right;\">\n",
              "      <th></th>\n",
              "      <th>age</th>\n",
              "      <th>sex</th>\n",
              "      <th>cp</th>\n",
              "      <th>trestbps</th>\n",
              "      <th>chol</th>\n",
              "      <th>fbs</th>\n",
              "      <th>restecg</th>\n",
              "      <th>thalach</th>\n",
              "      <th>exang</th>\n",
              "      <th>oldpeak</th>\n",
              "      <th>slope</th>\n",
              "      <th>ca</th>\n",
              "      <th>thal</th>\n",
              "    </tr>\n",
              "  </thead>\n",
              "  <tbody>\n",
              "    <tr>\n",
              "      <th>0</th>\n",
              "      <td>-1.210499</td>\n",
              "      <td>0.606417</td>\n",
              "      <td>-0.912608</td>\n",
              "      <td>-1.119298</td>\n",
              "      <td>0.845164</td>\n",
              "      <td>-0.398083</td>\n",
              "      <td>-0.974965</td>\n",
              "      <td>0.190079</td>\n",
              "      <td>-0.755229</td>\n",
              "      <td>-0.924445</td>\n",
              "      <td>1.06615</td>\n",
              "      <td>0.278447</td>\n",
              "      <td>-0.528042</td>\n",
              "    </tr>\n",
              "    <tr>\n",
              "      <th>1</th>\n",
              "      <td>-1.322270</td>\n",
              "      <td>0.606417</td>\n",
              "      <td>-0.912608</td>\n",
              "      <td>-0.668709</td>\n",
              "      <td>-1.346516</td>\n",
              "      <td>-0.398083</td>\n",
              "      <td>-0.974965</td>\n",
              "      <td>-1.238270</td>\n",
              "      <td>1.324102</td>\n",
              "      <td>1.237760</td>\n",
              "      <td>-0.59579</td>\n",
              "      <td>-0.705399</td>\n",
              "      <td>1.094349</td>\n",
              "    </tr>\n",
              "    <tr>\n",
              "      <th>2</th>\n",
              "      <td>0.130751</td>\n",
              "      <td>0.606417</td>\n",
              "      <td>-0.912608</td>\n",
              "      <td>-0.105474</td>\n",
              "      <td>0.709396</td>\n",
              "      <td>2.512040</td>\n",
              "      <td>-0.974965</td>\n",
              "      <td>-1.974087</td>\n",
              "      <td>1.324102</td>\n",
              "      <td>0.459367</td>\n",
              "      <td>-2.25773</td>\n",
              "      <td>-0.705399</td>\n",
              "      <td>1.094349</td>\n",
              "    </tr>\n",
              "    <tr>\n",
              "      <th>3</th>\n",
              "      <td>-0.651645</td>\n",
              "      <td>-1.649029</td>\n",
              "      <td>0.035789</td>\n",
              "      <td>0.119820</td>\n",
              "      <td>0.476651</td>\n",
              "      <td>-0.398083</td>\n",
              "      <td>0.921297</td>\n",
              "      <td>0.579629</td>\n",
              "      <td>-0.755229</td>\n",
              "      <td>-0.924445</td>\n",
              "      <td>-0.59579</td>\n",
              "      <td>-0.705399</td>\n",
              "      <td>-0.528042</td>\n",
              "    </tr>\n",
              "    <tr>\n",
              "      <th>4</th>\n",
              "      <td>0.242522</td>\n",
              "      <td>0.606417</td>\n",
              "      <td>-0.912608</td>\n",
              "      <td>-1.231945</td>\n",
              "      <td>1.717957</td>\n",
              "      <td>-0.398083</td>\n",
              "      <td>0.921297</td>\n",
              "      <td>-0.242754</td>\n",
              "      <td>1.324102</td>\n",
              "      <td>1.670201</td>\n",
              "      <td>-0.59579</td>\n",
              "      <td>0.278447</td>\n",
              "      <td>1.094349</td>\n",
              "    </tr>\n",
              "  </tbody>\n",
              "</table>\n",
              "</div>"
            ],
            "text/plain": [
              "        age       sex        cp  trestbps      chol       fbs   restecg  \\\n",
              "0 -1.210499  0.606417 -0.912608 -1.119298  0.845164 -0.398083 -0.974965   \n",
              "1 -1.322270  0.606417 -0.912608 -0.668709 -1.346516 -0.398083 -0.974965   \n",
              "2  0.130751  0.606417 -0.912608 -0.105474  0.709396  2.512040 -0.974965   \n",
              "3 -0.651645 -1.649029  0.035789  0.119820  0.476651 -0.398083  0.921297   \n",
              "4  0.242522  0.606417 -0.912608 -1.231945  1.717957 -0.398083  0.921297   \n",
              "\n",
              "    thalach     exang   oldpeak    slope        ca      thal  \n",
              "0  0.190079 -0.755229 -0.924445  1.06615  0.278447 -0.528042  \n",
              "1 -1.238270  1.324102  1.237760 -0.59579 -0.705399  1.094349  \n",
              "2 -1.974087  1.324102  0.459367 -2.25773 -0.705399  1.094349  \n",
              "3  0.579629 -0.755229 -0.924445 -0.59579 -0.705399 -0.528042  \n",
              "4 -0.242754  1.324102  1.670201 -0.59579  0.278447  1.094349  "
            ]
          },
          "execution_count": 79,
          "metadata": {},
          "output_type": "execute_result"
        }
      ]
    },
    {
      "cell_type": "code",
      "metadata": {
        "id": "xfOER4FaEiJR"
      },
      "source": [
        "object_list_feature = list(x_train_sc[['sex', 'cp','fbs','restecg','exang','slope','ca','thal']].columns)"
      ],
      "execution_count": null,
      "outputs": []
    },
    {
      "cell_type": "markdown",
      "metadata": {
        "id": "3132KedDQvXg"
      },
      "source": [
        ""
      ]
    },
    {
      "cell_type": "code",
      "metadata": {
        "id": "LCaxCUGTEiJR"
      },
      "source": [
        "from category_encoders import OneHotEncoder\n",
        "ce_one_hot = OneHotEncoder(cols = object_list_feature)\n",
        "x_train_k = ce_one_hot.fit_transform(x_train_sc)"
      ],
      "execution_count": null,
      "outputs": []
    },
    {
      "cell_type": "code",
      "metadata": {
        "id": "6JNzGzm0EiJR"
      },
      "source": [
        "x_val_k = ce_one_hot.transform(x_val_sc)\n",
        "x_test_k = ce_one_hot.transform(x_test_sc)"
      ],
      "execution_count": null,
      "outputs": []
    },
    {
      "cell_type": "code",
      "metadata": {
        "id": "eX_NSH03EiJS",
        "outputId": "e1624d1e-6659-4ea7-fbd7-85b1fffaa312"
      },
      "source": [
        "feat_labels = x_train_k.columns[0:]\n",
        "from sklearn.ensemble import RandomForestClassifier\n",
        "forest = RandomForestClassifier(n_estimators=100, random_state=1)\n",
        "#forest = RandomForestClassifier()\n",
        "forest.fit(x_train_k, y_train)\n",
        "importances = forest.feature_importances_\n",
        "indices = np.argsort(importances)[::-1]\n",
        "for f in range(x_train_k.shape[1]):\n",
        "    print(\"%2d) %-*s %f\" % (f+1, 30, feat_labels[indices[f]], importances[indices[f]]))\n",
        "# Show features importances"
      ],
      "execution_count": null,
      "outputs": [
        {
          "name": "stdout",
          "output_type": "stream",
          "text": [
            " 1) thalach                        0.100483\n",
            " 2) cp_1                           0.098802\n",
            " 3) age                            0.090282\n",
            " 4) oldpeak                        0.084276\n",
            " 5) ca_2                           0.083773\n",
            " 6) chol                           0.071766\n",
            " 7) trestbps                       0.059260\n",
            " 8) thal_2                         0.049544\n",
            " 9) thal_1                         0.047343\n",
            "10) exang_2                        0.041677\n",
            "11) exang_1                        0.033652\n",
            "12) slope_2                        0.029086\n",
            "13) slope_1                        0.028052\n",
            "14) sex_1                          0.019711\n",
            "15) cp_3                           0.018907\n",
            "16) ca_3                           0.017803\n",
            "17) sex_2                          0.016910\n",
            "18) ca_1                           0.015516\n",
            "19) restecg_1                      0.015425\n",
            "20) restecg_2                      0.014460\n",
            "21) cp_4                           0.013027\n",
            "22) cp_2                           0.012868\n",
            "23) ca_4                           0.012629\n",
            "24) fbs_1                          0.006010\n",
            "25) thal_3                         0.004981\n",
            "26) fbs_2                          0.004788\n",
            "27) slope_3                        0.004403\n",
            "28) ca_5                           0.002947\n",
            "29) thal_4                         0.001350\n",
            "30) restecg_3                      0.000271\n"
          ]
        }
      ]
    },
    {
      "cell_type": "code",
      "metadata": {
        "scrolled": true,
        "id": "jGgpc6njEiJT",
        "outputId": "3265afea-309f-43b5-d3d8-b54778891482"
      },
      "source": [
        "plt.title('Feature Importance')\n",
        "plt.bar(range(x_train_k.shape[1]), importances[indices], align='center')\n",
        "plt.xticks(range(x_train_k.shape[1]), feat_labels, rotation=90)\n",
        "plt.xlim([-1, x_train_k.shape[1]])\n",
        "plt.tight_layout()\n",
        "plt.show()"
      ],
      "execution_count": null,
      "outputs": [
        {
          "data": {
            "image/png": "[encoded data removed]",
            "text/plain": [
              "<Figure size 432x288 with 1 Axes>"
            ]
          },
          "metadata": {},
          "output_type": "display_data"
        }
      ]
    },
    {
      "cell_type": "code",
      "metadata": {
        "id": "NJy-xUhiEiJT",
        "outputId": "d0f2a67f-9d42-4463-9994-a17fcbfda76f"
      },
      "source": [
        "x_train_k.drop([\"ca_5\",\"thal_4\",\"restecg_3\"], inplace=True, axis=1)"
      ],
      "execution_count": null,
      "outputs": [
        {
          "ename": "KeyError",
          "evalue": "\"['ca_5' 'thal_4' 'restecg_3'] not found in axis\"",
          "output_type": "error",
          "traceback": [
            "\u001b[1;31m---------------------------------------------------------------------------\u001b[0m",
            "\u001b[1;31mKeyError\u001b[0m                                  Traceback (most recent call last)",
            "\u001b[1;32m<ipython-input-164-3a7aa098419d>\u001b[0m in \u001b[0;36m<module>\u001b[1;34m\u001b[0m\n\u001b[1;32m----> 1\u001b[1;33m \u001b[0mx_train_k\u001b[0m\u001b[1;33m.\u001b[0m\u001b[0mdrop\u001b[0m\u001b[1;33m(\u001b[0m\u001b[1;33m[\u001b[0m\u001b[1;34m\"ca_5\"\u001b[0m\u001b[1;33m,\u001b[0m\u001b[1;34m\"thal_4\"\u001b[0m\u001b[1;33m,\u001b[0m\u001b[1;34m\"restecg_3\"\u001b[0m\u001b[1;33m]\u001b[0m\u001b[1;33m,\u001b[0m \u001b[0minplace\u001b[0m\u001b[1;33m=\u001b[0m\u001b[1;32mTrue\u001b[0m\u001b[1;33m,\u001b[0m \u001b[0maxis\u001b[0m\u001b[1;33m=\u001b[0m\u001b[1;36m1\u001b[0m\u001b[1;33m)\u001b[0m\u001b[1;33m\u001b[0m\u001b[1;33m\u001b[0m\u001b[0m\n\u001b[0m",
            "\u001b[1;32m~\\anaconda3\\lib\\site-packages\\pandas\\core\\frame.py\u001b[0m in \u001b[0;36mdrop\u001b[1;34m(self, labels, axis, index, columns, level, inplace, errors)\u001b[0m\n\u001b[0;32m   3995\u001b[0m             \u001b[0mlevel\u001b[0m\u001b[1;33m=\u001b[0m\u001b[0mlevel\u001b[0m\u001b[1;33m,\u001b[0m\u001b[1;33m\u001b[0m\u001b[1;33m\u001b[0m\u001b[0m\n\u001b[0;32m   3996\u001b[0m             \u001b[0minplace\u001b[0m\u001b[1;33m=\u001b[0m\u001b[0minplace\u001b[0m\u001b[1;33m,\u001b[0m\u001b[1;33m\u001b[0m\u001b[1;33m\u001b[0m\u001b[0m\n\u001b[1;32m-> 3997\u001b[1;33m             \u001b[0merrors\u001b[0m\u001b[1;33m=\u001b[0m\u001b[0merrors\u001b[0m\u001b[1;33m,\u001b[0m\u001b[1;33m\u001b[0m\u001b[1;33m\u001b[0m\u001b[0m\n\u001b[0m\u001b[0;32m   3998\u001b[0m         )\n\u001b[0;32m   3999\u001b[0m \u001b[1;33m\u001b[0m\u001b[0m\n",
            "\u001b[1;32m~\\anaconda3\\lib\\site-packages\\pandas\\core\\generic.py\u001b[0m in \u001b[0;36mdrop\u001b[1;34m(self, labels, axis, index, columns, level, inplace, errors)\u001b[0m\n\u001b[0;32m   3934\u001b[0m         \u001b[1;32mfor\u001b[0m \u001b[0maxis\u001b[0m\u001b[1;33m,\u001b[0m \u001b[0mlabels\u001b[0m \u001b[1;32min\u001b[0m \u001b[0maxes\u001b[0m\u001b[1;33m.\u001b[0m\u001b[0mitems\u001b[0m\u001b[1;33m(\u001b[0m\u001b[1;33m)\u001b[0m\u001b[1;33m:\u001b[0m\u001b[1;33m\u001b[0m\u001b[1;33m\u001b[0m\u001b[0m\n\u001b[0;32m   3935\u001b[0m             \u001b[1;32mif\u001b[0m \u001b[0mlabels\u001b[0m \u001b[1;32mis\u001b[0m \u001b[1;32mnot\u001b[0m \u001b[1;32mNone\u001b[0m\u001b[1;33m:\u001b[0m\u001b[1;33m\u001b[0m\u001b[1;33m\u001b[0m\u001b[0m\n\u001b[1;32m-> 3936\u001b[1;33m                 \u001b[0mobj\u001b[0m \u001b[1;33m=\u001b[0m \u001b[0mobj\u001b[0m\u001b[1;33m.\u001b[0m\u001b[0m_drop_axis\u001b[0m\u001b[1;33m(\u001b[0m\u001b[0mlabels\u001b[0m\u001b[1;33m,\u001b[0m \u001b[0maxis\u001b[0m\u001b[1;33m,\u001b[0m \u001b[0mlevel\u001b[0m\u001b[1;33m=\u001b[0m\u001b[0mlevel\u001b[0m\u001b[1;33m,\u001b[0m \u001b[0merrors\u001b[0m\u001b[1;33m=\u001b[0m\u001b[0merrors\u001b[0m\u001b[1;33m)\u001b[0m\u001b[1;33m\u001b[0m\u001b[1;33m\u001b[0m\u001b[0m\n\u001b[0m\u001b[0;32m   3937\u001b[0m \u001b[1;33m\u001b[0m\u001b[0m\n\u001b[0;32m   3938\u001b[0m         \u001b[1;32mif\u001b[0m \u001b[0minplace\u001b[0m\u001b[1;33m:\u001b[0m\u001b[1;33m\u001b[0m\u001b[1;33m\u001b[0m\u001b[0m\n",
            "\u001b[1;32m~\\anaconda3\\lib\\site-packages\\pandas\\core\\generic.py\u001b[0m in \u001b[0;36m_drop_axis\u001b[1;34m(self, labels, axis, level, errors)\u001b[0m\n\u001b[0;32m   3968\u001b[0m                 \u001b[0mnew_axis\u001b[0m \u001b[1;33m=\u001b[0m \u001b[0maxis\u001b[0m\u001b[1;33m.\u001b[0m\u001b[0mdrop\u001b[0m\u001b[1;33m(\u001b[0m\u001b[0mlabels\u001b[0m\u001b[1;33m,\u001b[0m \u001b[0mlevel\u001b[0m\u001b[1;33m=\u001b[0m\u001b[0mlevel\u001b[0m\u001b[1;33m,\u001b[0m \u001b[0merrors\u001b[0m\u001b[1;33m=\u001b[0m\u001b[0merrors\u001b[0m\u001b[1;33m)\u001b[0m\u001b[1;33m\u001b[0m\u001b[1;33m\u001b[0m\u001b[0m\n\u001b[0;32m   3969\u001b[0m             \u001b[1;32melse\u001b[0m\u001b[1;33m:\u001b[0m\u001b[1;33m\u001b[0m\u001b[1;33m\u001b[0m\u001b[0m\n\u001b[1;32m-> 3970\u001b[1;33m                 \u001b[0mnew_axis\u001b[0m \u001b[1;33m=\u001b[0m \u001b[0maxis\u001b[0m\u001b[1;33m.\u001b[0m\u001b[0mdrop\u001b[0m\u001b[1;33m(\u001b[0m\u001b[0mlabels\u001b[0m\u001b[1;33m,\u001b[0m \u001b[0merrors\u001b[0m\u001b[1;33m=\u001b[0m\u001b[0merrors\u001b[0m\u001b[1;33m)\u001b[0m\u001b[1;33m\u001b[0m\u001b[1;33m\u001b[0m\u001b[0m\n\u001b[0m\u001b[0;32m   3971\u001b[0m             \u001b[0mresult\u001b[0m \u001b[1;33m=\u001b[0m \u001b[0mself\u001b[0m\u001b[1;33m.\u001b[0m\u001b[0mreindex\u001b[0m\u001b[1;33m(\u001b[0m\u001b[1;33m**\u001b[0m\u001b[1;33m{\u001b[0m\u001b[0maxis_name\u001b[0m\u001b[1;33m:\u001b[0m \u001b[0mnew_axis\u001b[0m\u001b[1;33m}\u001b[0m\u001b[1;33m)\u001b[0m\u001b[1;33m\u001b[0m\u001b[1;33m\u001b[0m\u001b[0m\n\u001b[0;32m   3972\u001b[0m \u001b[1;33m\u001b[0m\u001b[0m\n",
            "\u001b[1;32m~\\anaconda3\\lib\\site-packages\\pandas\\core\\indexes\\base.py\u001b[0m in \u001b[0;36mdrop\u001b[1;34m(self, labels, errors)\u001b[0m\n\u001b[0;32m   5016\u001b[0m         \u001b[1;32mif\u001b[0m \u001b[0mmask\u001b[0m\u001b[1;33m.\u001b[0m\u001b[0many\u001b[0m\u001b[1;33m(\u001b[0m\u001b[1;33m)\u001b[0m\u001b[1;33m:\u001b[0m\u001b[1;33m\u001b[0m\u001b[1;33m\u001b[0m\u001b[0m\n\u001b[0;32m   5017\u001b[0m             \u001b[1;32mif\u001b[0m \u001b[0merrors\u001b[0m \u001b[1;33m!=\u001b[0m \u001b[1;34m\"ignore\"\u001b[0m\u001b[1;33m:\u001b[0m\u001b[1;33m\u001b[0m\u001b[1;33m\u001b[0m\u001b[0m\n\u001b[1;32m-> 5018\u001b[1;33m                 \u001b[1;32mraise\u001b[0m \u001b[0mKeyError\u001b[0m\u001b[1;33m(\u001b[0m\u001b[1;34mf\"{labels[mask]} not found in axis\"\u001b[0m\u001b[1;33m)\u001b[0m\u001b[1;33m\u001b[0m\u001b[1;33m\u001b[0m\u001b[0m\n\u001b[0m\u001b[0;32m   5019\u001b[0m             \u001b[0mindexer\u001b[0m \u001b[1;33m=\u001b[0m \u001b[0mindexer\u001b[0m\u001b[1;33m[\u001b[0m\u001b[1;33m~\u001b[0m\u001b[0mmask\u001b[0m\u001b[1;33m]\u001b[0m\u001b[1;33m\u001b[0m\u001b[1;33m\u001b[0m\u001b[0m\n\u001b[0;32m   5020\u001b[0m         \u001b[1;32mreturn\u001b[0m \u001b[0mself\u001b[0m\u001b[1;33m.\u001b[0m\u001b[0mdelete\u001b[0m\u001b[1;33m(\u001b[0m\u001b[0mindexer\u001b[0m\u001b[1;33m)\u001b[0m\u001b[1;33m\u001b[0m\u001b[1;33m\u001b[0m\u001b[0m\n",
            "\u001b[1;31mKeyError\u001b[0m: \"['ca_5' 'thal_4' 'restecg_3'] not found in axis\""
          ]
        }
      ]
    },
    {
      "cell_type": "code",
      "metadata": {
        "id": "uevYKzXEEiJT"
      },
      "source": [
        "\n",
        "x_test_k.drop([\"ca_5\",\"thal_4\",\"restecg_3\"], inplace=True, axis=1) \n",
        "x_val_k.drop([\"ca_5\",\"thal_4\",\"restecg_3\"], inplace=True, axis=1) \n"
      ],
      "execution_count": null,
      "outputs": []
    },
    {
      "cell_type": "code",
      "metadata": {
        "id": "cfyvF0CdEiJU"
      },
      "source": [
        "\n",
        "def train_validate_score(model):\n",
        "    kfold = StratifiedKFold(n_splits=10,\n",
        "                           random_state=1).split(x_train_k, y_train)\n",
        "    for k, (train, test) in enumerate(kfold):\n",
        "        model.fit(x_train_k[train], y_train.iloc[train])\n",
        "        print('Fold: %s, Class dist.: %s' % (k+1,\n",
        "                                            np.bincount(y_train.iloc[train])))\n",
        "    y_pred=model.predict(X_test)\n",
        "    print('\\nAccuracy: %.2f' % accuracy_score(y_test, y_pred))\n",
        "    print('\\nRecall: %s' % recall_score(y_test, y_pred, average=None))\n",
        "    print('\\nPrecision: %s' % precision_score(y_test, y_pred, average=None))\n",
        "    \n"
      ],
      "execution_count": null,
      "outputs": []
    },
    {
      "cell_type": "code",
      "metadata": {
        "id": "nrkGsp8_EiJU"
      },
      "source": [
        "from sklearn import tree, preprocessing\n",
        "from sklearn.model_selection import train_test_split, GridSearchCV,RandomizedSearchCV, cross_val_score\n",
        "from sklearn.metrics import confusion_matrix, precision_score, recall_score, accuracy_score, f1_score"
      ],
      "execution_count": null,
      "outputs": []
    },
    {
      "cell_type": "code",
      "metadata": {
        "id": "m3tBC5Q1EiJU"
      },
      "source": [
        "from sklearn.linear_model import LogisticRegression, SGDClassifier\n",
        "from sklearn.tree import DecisionTreeClassifier\n",
        "from sklearn.ensemble import RandomForestClassifier\n",
        "from sklearn.pipeline import Pipeline"
      ],
      "execution_count": null,
      "outputs": []
    },
    {
      "cell_type": "code",
      "metadata": {
        "id": "9c6s57DFEiJU",
        "outputId": "85155598-5078-4495-acfe-9173131237cb"
      },
      "source": [
        "#анализ модели без настройки гиперпараметров\n",
        "for classifier, pl in zip((LogisticRegression, RandomForestClassifier, DecisionTreeClassifier),\n",
        "                          ('Logistic regression', 'Random forest', 'Decision Tree')):\n",
        "\n",
        "    pipe = Pipeline([('clf', classifier(random_state=3))])\n",
        "    pipe.fit(x_train_k, y_train)\n",
        "    \n",
        "    print(pl)\n",
        "    print(pipe.score(x_test_k, y_test))\n",
        "    print()"
      ],
      "execution_count": null,
      "outputs": [
        {
          "name": "stdout",
          "output_type": "stream",
          "text": [
            "Logistic regression\n",
            "0.9130434782608695\n",
            "\n",
            "Random forest\n",
            "0.8260869565217391\n",
            "\n",
            "Decision Tree\n",
            "0.717391304347826\n",
            "\n"
          ]
        }
      ]
    },
    {
      "cell_type": "code",
      "metadata": {
        "id": "OXR7RmT9EiJV"
      },
      "source": [
        "#с настройками гиперпараметров для дерева решений\n",
        "dt = DecisionTreeClassifier(random_state=17)\n",
        "tree_params = {'criterion': ['gini','entropy'],\n",
        "              'max_depth' : range(1,20),\n",
        "              'min_samples_split': range(2,20,5),\n",
        "              'min_samples_leaf':range(1,20,5)}\n",
        "first_tree_search = RandomizedSearchCV(dt, tree_params)"
      ],
      "execution_count": null,
      "outputs": []
    },
    {
      "cell_type": "code",
      "metadata": {
        "id": "lRqXU9-TEiJV",
        "outputId": "47e4f4fc-3cf3-49ab-c9fa-b3136711905c"
      },
      "source": [
        "first_tree_search.fit(x_train_k, y_train)"
      ],
      "execution_count": null,
      "outputs": [
        {
          "data": {
            "text/plain": [
              "RandomizedSearchCV(cv='warn', error_score='raise-deprecating',\n",
              "                   estimator=DecisionTreeClassifier(class_weight=None,\n",
              "                                                    criterion='gini',\n",
              "                                                    max_depth=None,\n",
              "                                                    max_features=None,\n",
              "                                                    max_leaf_nodes=None,\n",
              "                                                    min_impurity_decrease=0.0,\n",
              "                                                    min_impurity_split=None,\n",
              "                                                    min_samples_leaf=1,\n",
              "                                                    min_samples_split=2,\n",
              "                                                    min_weight_fraction_leaf=0.0,\n",
              "                                                    presort=False,\n",
              "                                                    random_state=17,\n",
              "                                                    splitter='best'),\n",
              "                   iid='warn', n_iter=10, n_jobs=None,\n",
              "                   param_distributions={'criterion': ['gini', 'entropy'],\n",
              "                                        'max_depth': range(1, 20),\n",
              "                                        'min_samples_leaf': range(1, 20, 5),\n",
              "                                        'min_samples_split': range(2, 20, 5)},\n",
              "                   pre_dispatch='2*n_jobs', random_state=None, refit=True,\n",
              "                   return_train_score=False, scoring=None, verbose=0)"
            ]
          },
          "execution_count": 132,
          "metadata": {},
          "output_type": "execute_result"
        }
      ]
    },
    {
      "cell_type": "code",
      "metadata": {
        "id": "6A_jmhi2EiJV",
        "outputId": "100eeb00-bfe4-4eb5-c8f2-3c4ca3aa5803"
      },
      "source": [
        "first_tree = first_tree_search.best_estimator_\n",
        "first_tree_search.best_params_, first_tree_search.best_score_"
      ],
      "execution_count": null,
      "outputs": [
        {
          "data": {
            "text/plain": [
              "({'min_samples_split': 7,\n",
              "  'min_samples_leaf': 1,\n",
              "  'max_depth': 16,\n",
              "  'criterion': 'entropy'},\n",
              " 0.8018867924528302)"
            ]
          },
          "execution_count": 133,
          "metadata": {},
          "output_type": "execute_result"
        }
      ]
    },
    {
      "cell_type": "code",
      "metadata": {
        "id": "zsoOEsbGEiJW",
        "outputId": "db6bce43-4183-475f-bb9b-cdde86456c72"
      },
      "source": [
        "first_tree.fit(x_train_k, y_train)"
      ],
      "execution_count": null,
      "outputs": [
        {
          "data": {
            "text/plain": [
              "DecisionTreeClassifier(class_weight=None, criterion='entropy', max_depth=16,\n",
              "                       max_features=None, max_leaf_nodes=None,\n",
              "                       min_impurity_decrease=0.0, min_impurity_split=None,\n",
              "                       min_samples_leaf=1, min_samples_split=7,\n",
              "                       min_weight_fraction_leaf=0.0, presort=False,\n",
              "                       random_state=17, splitter='best')"
            ]
          },
          "execution_count": 134,
          "metadata": {},
          "output_type": "execute_result"
        }
      ]
    },
    {
      "cell_type": "code",
      "metadata": {
        "id": "-KG39qtLEiJW"
      },
      "source": [
        "y_pred = first_tree.predict(x_test_k)"
      ],
      "execution_count": null,
      "outputs": []
    },
    {
      "cell_type": "code",
      "metadata": {
        "id": "ZV6RdNytEiJW"
      },
      "source": [
        "#предсказания и метрики качества на тестовой выборке\n",
        "from sklearn.metrics import classification_report"
      ],
      "execution_count": null,
      "outputs": []
    },
    {
      "cell_type": "code",
      "metadata": {
        "id": "n6Vhl9iyEiJW",
        "outputId": "ee6dc407-ec36-47c8-9f66-6460e824748f"
      },
      "source": [
        "target_names = ['class 0', 'class 1']\n",
        "print(classification_report(y_test, y_pred, target_names=target_names))\n",
        "print('best score: - ', first_tree_search.best_score_)"
      ],
      "execution_count": null,
      "outputs": [
        {
          "name": "stdout",
          "output_type": "stream",
          "text": [
            "              precision    recall  f1-score   support\n",
            "\n",
            "     class 0       0.55      0.69      0.61        16\n",
            "     class 1       0.81      0.70      0.75        30\n",
            "\n",
            "    accuracy                           0.70        46\n",
            "   macro avg       0.68      0.69      0.68        46\n",
            "weighted avg       0.72      0.70      0.70        46\n",
            "\n",
            "best score: -  0.8018867924528302\n"
          ]
        }
      ]
    },
    {
      "cell_type": "code",
      "metadata": {
        "id": "2n1CxI82EiJX"
      },
      "source": [
        "y_pred = first_tree.predict(x_val_k)"
      ],
      "execution_count": null,
      "outputs": []
    },
    {
      "cell_type": "code",
      "metadata": {
        "id": "07Ovjhl9EiJX",
        "outputId": "498bf02f-72f2-480c-ea6c-244c74d6e1a0"
      },
      "source": [
        "#предсказания и метрики качества на валидационной выборке\n",
        "target_names = ['class 0', 'class 1']\n",
        "print(classification_report(y_val, y_pred, target_names=target_names))\n",
        "print('best score: - ', first_tree_search.best_score_)"
      ],
      "execution_count": null,
      "outputs": [
        {
          "name": "stdout",
          "output_type": "stream",
          "text": [
            "              precision    recall  f1-score   support\n",
            "\n",
            "     class 0       0.79      0.79      0.79        19\n",
            "     class 1       0.85      0.85      0.85        26\n",
            "\n",
            "    accuracy                           0.82        45\n",
            "   macro avg       0.82      0.82      0.82        45\n",
            "weighted avg       0.82      0.82      0.82        45\n",
            "\n",
            "best score: -  0.8018867924528302\n"
          ]
        }
      ]
    },
    {
      "cell_type": "code",
      "metadata": {
        "id": "L7OfjzuZEiJX"
      },
      "source": [
        "#настройка гиперпараметров для RandomForestClassifier\n",
        "clf_rf = RandomForestClassifier()"
      ],
      "execution_count": null,
      "outputs": []
    },
    {
      "cell_type": "code",
      "metadata": {
        "id": "Y8MOhvhBEiJX"
      },
      "source": [
        "rf_params = {'criterion': ['gini','entropy'],\n",
        "             'n_estimators': [125,150,175],\n",
        "              'max_depth' : range(1,20),\n",
        "              'min_samples_split': range(2,20,5),\n",
        "              'min_samples_leaf':range(1,20,5)}"
      ],
      "execution_count": null,
      "outputs": []
    },
    {
      "cell_type": "code",
      "metadata": {
        "id": "5DsJ3pMMEiJY"
      },
      "source": [
        "#grid_search_rf = GridSearchCV(clf_rf,rf_params, cv = 5)\n",
        "#так как очень долго грузилось, решила им не пользоваться :)\n",
        "grid_search_rf = RandomizedSearchCV(clf_rf,rf_params, cv = 5)"
      ],
      "execution_count": null,
      "outputs": []
    },
    {
      "cell_type": "code",
      "metadata": {
        "id": "sP4jkG6WEiJY",
        "outputId": "b682c24a-5557-443b-cc9c-1b02c9a1dfa8"
      },
      "source": [
        "grid_search_rf.fit(x_train_k, y_train)"
      ],
      "execution_count": null,
      "outputs": [
        {
          "data": {
            "text/plain": [
              "RandomizedSearchCV(cv=5, error_score='raise-deprecating',\n",
              "                   estimator=RandomForestClassifier(bootstrap=True,\n",
              "                                                    class_weight=None,\n",
              "                                                    criterion='gini',\n",
              "                                                    max_depth=None,\n",
              "                                                    max_features='auto',\n",
              "                                                    max_leaf_nodes=None,\n",
              "                                                    min_impurity_decrease=0.0,\n",
              "                                                    min_impurity_split=None,\n",
              "                                                    min_samples_leaf=1,\n",
              "                                                    min_samples_split=2,\n",
              "                                                    min_weight_fraction_leaf=0.0,\n",
              "                                                    n_estimators='warn',\n",
              "                                                    n_jobs=None,\n",
              "                                                    oob_sc...\n",
              "                                                    random_state=None,\n",
              "                                                    verbose=0,\n",
              "                                                    warm_start=False),\n",
              "                   iid='warn', n_iter=10, n_jobs=None,\n",
              "                   param_distributions={'criterion': ['gini', 'entropy'],\n",
              "                                        'max_depth': range(1, 20),\n",
              "                                        'min_samples_leaf': range(1, 20, 5),\n",
              "                                        'min_samples_split': range(2, 20, 5),\n",
              "                                        'n_estimators': [125, 150, 175]},\n",
              "                   pre_dispatch='2*n_jobs', random_state=None, refit=True,\n",
              "                   return_train_score=False, scoring=None, verbose=0)"
            ]
          },
          "execution_count": 143,
          "metadata": {},
          "output_type": "execute_result"
        }
      ]
    },
    {
      "cell_type": "code",
      "metadata": {
        "id": "QLbjDagBEiJY",
        "outputId": "0a62c090-beed-41df-f811-752e0eb9b1fa"
      },
      "source": [
        "grid_search = grid_search_rf.best_estimator_\n",
        "grid_search_rf.best_params_, grid_search_rf.best_score_"
      ],
      "execution_count": null,
      "outputs": [
        {
          "data": {
            "text/plain": [
              "({'n_estimators': 175,\n",
              "  'min_samples_split': 7,\n",
              "  'min_samples_leaf': 1,\n",
              "  'max_depth': 13,\n",
              "  'criterion': 'entropy'},\n",
              " 0.839622641509434)"
            ]
          },
          "execution_count": 144,
          "metadata": {},
          "output_type": "execute_result"
        }
      ]
    },
    {
      "cell_type": "code",
      "metadata": {
        "id": "zaqI4QRcEiJY",
        "outputId": "fd6b4f7b-18c3-49ba-9ed0-791720601004"
      },
      "source": [
        "grid_search.fit(x_train_k, y_train)"
      ],
      "execution_count": null,
      "outputs": [
        {
          "data": {
            "text/plain": [
              "RandomForestClassifier(bootstrap=True, class_weight=None, criterion='entropy',\n",
              "                       max_depth=13, max_features='auto', max_leaf_nodes=None,\n",
              "                       min_impurity_decrease=0.0, min_impurity_split=None,\n",
              "                       min_samples_leaf=1, min_samples_split=7,\n",
              "                       min_weight_fraction_leaf=0.0, n_estimators=175,\n",
              "                       n_jobs=None, oob_score=False, random_state=None,\n",
              "                       verbose=0, warm_start=False)"
            ]
          },
          "execution_count": 145,
          "metadata": {},
          "output_type": "execute_result"
        }
      ]
    },
    {
      "cell_type": "code",
      "metadata": {
        "id": "ckP39NLTEiJY"
      },
      "source": [
        "y_pred = grid_search.predict(x_test_k)"
      ],
      "execution_count": null,
      "outputs": []
    },
    {
      "cell_type": "code",
      "metadata": {
        "id": "iG_TNAVjEiJZ",
        "outputId": "9c9067c8-b239-414e-8bf8-a6f405e561c4"
      },
      "source": [
        "target_names = ['class 0', 'class 1']\n",
        "print(classification_report(y_test, y_pred, target_names=target_names))\n",
        "print('best score: - ', grid_search_rf.best_score_)"
      ],
      "execution_count": null,
      "outputs": [
        {
          "name": "stdout",
          "output_type": "stream",
          "text": [
            "              precision    recall  f1-score   support\n",
            "\n",
            "     class 0       0.72      0.81      0.76        16\n",
            "     class 1       0.89      0.83      0.86        30\n",
            "\n",
            "    accuracy                           0.83        46\n",
            "   macro avg       0.81      0.82      0.81        46\n",
            "weighted avg       0.83      0.83      0.83        46\n",
            "\n",
            "best score: -  0.839622641509434\n"
          ]
        }
      ]
    },
    {
      "cell_type": "code",
      "metadata": {
        "id": "sbJRG-4UEiJZ"
      },
      "source": [
        "y_pred = grid_search.predict(x_val_k)"
      ],
      "execution_count": null,
      "outputs": []
    },
    {
      "cell_type": "code",
      "metadata": {
        "id": "bE4zUbA_EiJZ",
        "outputId": "a2ac9372-ae69-4ebe-cacb-68ece153d58f"
      },
      "source": [
        "target_names = ['class 0', 'class 1']\n",
        "print(classification_report(y_val, y_pred, target_names=target_names))\n",
        "print('best score: - ', grid_search_rf.best_score_)"
      ],
      "execution_count": null,
      "outputs": [
        {
          "name": "stdout",
          "output_type": "stream",
          "text": [
            "              precision    recall  f1-score   support\n",
            "\n",
            "     class 0       0.88      0.79      0.83        19\n",
            "     class 1       0.86      0.92      0.89        26\n",
            "\n",
            "    accuracy                           0.87        45\n",
            "   macro avg       0.87      0.86      0.86        45\n",
            "weighted avg       0.87      0.87      0.87        45\n",
            "\n",
            "best score: -  0.839622641509434\n"
          ]
        }
      ]
    },
    {
      "cell_type": "code",
      "metadata": {
        "id": "lmTDqPT4EiJZ"
      },
      "source": [
        "#настройка гиперпараметров для логистической регресии\n",
        "# Будем использовать функцию GridSearchCV для поиска оптимальных гиперпараметров\n",
        "# C - – обратный коэффициент регуляризации\n",
        "logit = LogisticRegression()\n",
        "logit_params = {'C': np.logspace(-4, 2, 50)}\n",
        "logit_grid = GridSearchCV(logit, logit_params, cv=3)"
      ],
      "execution_count": null,
      "outputs": []
    },
    {
      "cell_type": "code",
      "metadata": {
        "id": "24YRD6EiEiJZ",
        "outputId": "9ed23866-5612-4914-8517-f2b0f6676f2e"
      },
      "source": [
        "logit_grid.fit(x_train_k, y_train)"
      ],
      "execution_count": null,
      "outputs": [
        {
          "data": {
            "text/plain": [
              "GridSearchCV(cv=3, error_score='raise-deprecating',\n",
              "             estimator=LogisticRegression(C=1.0, class_weight=None, dual=False,\n",
              "                                          fit_intercept=True,\n",
              "                                          intercept_scaling=1, l1_ratio=None,\n",
              "                                          max_iter=100, multi_class='warn',\n",
              "                                          n_jobs=None, penalty='l2',\n",
              "                                          random_state=None, solver='warn',\n",
              "                                          tol=0.0001, verbose=0,\n",
              "                                          warm_start=False),\n",
              "             iid='warn', n_jobs=None,\n",
              "             param_grid={'C': array([1.0000000...\n",
              "       8.28642773e-01, 1.09854114e+00, 1.45634848e+00, 1.93069773e+00,\n",
              "       2.55954792e+00, 3.39322177e+00, 4.49843267e+00, 5.96362332e+00,\n",
              "       7.90604321e+00, 1.04811313e+01, 1.38949549e+01, 1.84206997e+01,\n",
              "       2.44205309e+01, 3.23745754e+01, 4.29193426e+01, 5.68986603e+01,\n",
              "       7.54312006e+01, 1.00000000e+02])},\n",
              "             pre_dispatch='2*n_jobs', refit=True, return_train_score=False,\n",
              "             scoring=None, verbose=0)"
            ]
          },
          "execution_count": 151,
          "metadata": {},
          "output_type": "execute_result"
        }
      ]
    },
    {
      "cell_type": "code",
      "metadata": {
        "id": "03ovZwtQEiJa",
        "outputId": "af1b023b-1fb7-4d69-95c8-30e17b6201b3"
      },
      "source": [
        "logit_grid.best_params_, logit_grid.best_score_"
      ],
      "execution_count": null,
      "outputs": [
        {
          "data": {
            "text/plain": [
              "({'C': 0.1151395399326447}, 0.8632075471698113)"
            ]
          },
          "execution_count": 152,
          "metadata": {},
          "output_type": "execute_result"
        }
      ]
    },
    {
      "cell_type": "code",
      "metadata": {
        "id": "Q_yZFjXjEiJa",
        "outputId": "e9523f55-db70-4ed0-a696-c94a3ac0535d"
      },
      "source": [
        "logit = LogisticRegression(C=1.4)\n",
        "logit.fit(x_train_k, y_train)"
      ],
      "execution_count": null,
      "outputs": [
        {
          "data": {
            "text/plain": [
              "LogisticRegression(C=1.4, class_weight=None, dual=False, fit_intercept=True,\n",
              "                   intercept_scaling=1, l1_ratio=None, max_iter=100,\n",
              "                   multi_class='warn', n_jobs=None, penalty='l2',\n",
              "                   random_state=None, solver='warn', tol=0.0001, verbose=0,\n",
              "                   warm_start=False)"
            ]
          },
          "execution_count": 154,
          "metadata": {},
          "output_type": "execute_result"
        }
      ]
    },
    {
      "cell_type": "code",
      "metadata": {
        "id": "nV5of39NEiJa"
      },
      "source": [
        "y_pred_test = logit_grid.predict(x_test_k)"
      ],
      "execution_count": null,
      "outputs": []
    },
    {
      "cell_type": "code",
      "metadata": {
        "id": "ANjLMP4AEiJa",
        "outputId": "18c6bf02-7029-40bd-856b-7e2591f31c8b"
      },
      "source": [
        "#предсказания и метрики качества на тренировочной выборке\n",
        "target_names = ['class 0', 'class 1']\n",
        "print(classification_report(y_test, y_pred_test, target_names=target_names))\n",
        "print('score_ - ', logit_grid.best_score_)"
      ],
      "execution_count": null,
      "outputs": [
        {
          "name": "stdout",
          "output_type": "stream",
          "text": [
            "              precision    recall  f1-score   support\n",
            "\n",
            "     class 0       0.82      0.88      0.85        16\n",
            "     class 1       0.93      0.90      0.92        30\n",
            "\n",
            "    accuracy                           0.89        46\n",
            "   macro avg       0.88      0.89      0.88        46\n",
            "weighted avg       0.89      0.89      0.89        46\n",
            "\n",
            "score_ -  0.8632075471698113\n"
          ]
        }
      ]
    },
    {
      "cell_type": "code",
      "metadata": {
        "id": "Q__xZ7YwEiJb"
      },
      "source": [
        "y_pred_val = logit_grid.predict(x_val_k)"
      ],
      "execution_count": null,
      "outputs": []
    },
    {
      "cell_type": "code",
      "metadata": {
        "id": "6rgjjDooEiJb",
        "outputId": "0150bbaa-62bb-4bcf-919b-1d8d384db586"
      },
      "source": [
        "#предсказания и метрики качества на валиадционной выборке\n",
        "target_names = ['class 0', 'class 1']\n",
        "print(classification_report(y_val, y_pred_val, target_names=target_names))\n",
        "print('score_ - ', logit_grid.best_score_)"
      ],
      "execution_count": null,
      "outputs": [
        {
          "name": "stdout",
          "output_type": "stream",
          "text": [
            "              precision    recall  f1-score   support\n",
            "\n",
            "     class 0       0.93      0.74      0.82        19\n",
            "     class 1       0.83      0.96      0.89        26\n",
            "\n",
            "    accuracy                           0.87        45\n",
            "   macro avg       0.88      0.85      0.86        45\n",
            "weighted avg       0.88      0.87      0.86        45\n",
            "\n",
            "score_ -  0.8632075471698113\n"
          ]
        }
      ]
    },
    {
      "cell_type": "code",
      "metadata": {
        "id": "CQ_GIYGDEiJb",
        "outputId": "52cc04db-71b7-4db4-d4c4-1e487b1afcbe"
      },
      "source": [
        "param_grid_rf = [\n",
        "    {'rf_model__criterion': ['entropy','gini'],\n",
        "    'rf_model__n_estimators': [125,150,175],\n",
        "    'rf_model__max_depth': [None,2, 4],\n",
        "    'rf_model__min_samples_split': [0.001, 0.01],\n",
        "    'rf_model__min_samples_leaf': [0.001, 0.009]}\n",
        "]\n",
        "\n",
        "# grid search\n",
        "pipe_rf = Pipeline([('rf_model', RandomForestClassifier(random_state=3))])\n",
        "gs_rf = GridSearchCV(estimator=pipe_rf,\n",
        "                    param_grid=param_grid_rf,\n",
        "                    scoring='accuracy',\n",
        "                    cv=4, n_jobs=-1, verbose=1)\n",
        "\n",
        "# fitting grid search\n",
        "gs_rf.fit(x_train, y_train)\n",
        "\n",
        "# best parameters\n",
        "print('best accuracy: {:.4}%'.format(gs_rf.best_score_ * 100))\n",
        "print('params:\\n', gs_rf.best_params_)"
      ],
      "execution_count": null,
      "outputs": [
        {
          "name": "stdout",
          "output_type": "stream",
          "text": [
            "Fitting 4 folds for each of 72 candidates, totalling 288 fits\n"
          ]
        },
        {
          "name": "stderr",
          "output_type": "stream",
          "text": [
            "[Parallel(n_jobs=-1)]: Using backend LokyBackend with 2 concurrent workers.\n",
            "[Parallel(n_jobs=-1)]: Done  46 tasks      | elapsed:   18.6s\n",
            "[Parallel(n_jobs=-1)]: Done 196 tasks      | elapsed:  1.2min\n",
            "[Parallel(n_jobs=-1)]: Done 288 out of 288 | elapsed:  1.7min finished\n"
          ]
        },
        {
          "name": "stdout",
          "output_type": "stream",
          "text": [
            "best accuracy: 82.08%\n",
            "params:\n",
            " {'rf_model__criterion': 'entropy', 'rf_model__max_depth': None, 'rf_model__min_samples_leaf': 0.009, 'rf_model__min_samples_split': 0.001, 'rf_model__n_estimators': 150}\n"
          ]
        }
      ]
    },
    {
      "cell_type": "code",
      "metadata": {
        "id": "grUUg20jEiJb"
      },
      "source": [
        ""
      ],
      "execution_count": null,
      "outputs": []
    }
  ]
}